{
 "cells": [
  {
   "cell_type": "code",
   "execution_count": null,
   "id": "0e87cbdf",
   "metadata": {},
   "outputs": [],
   "source": [
    "class Person:\n",
    "    def __init__(self, name, age):\n",
    "        self.name = name\n",
    "        self.age = age\n",
    "\n",
    "    def introduce(self):\n",
    "        print(f\"My name is {self.name} and I am {self.age} years old\")\n",
    "\n",
    "class StudentMixin:\n",
    "    def __init__(self, school):\n",
    "        self.school = school\n",
    "\n",
    "    def study(self):\n",
    "        print(f\"I am studying at {self.school}\")\n",
    "\n",
    "class TeacherMixin:\n",
    "    def __init__(self, subject):\n",
    "        self.subject = subject\n",
    "\n",
    "    def teach(self):\n",
    "        print(f\"I am teaching {self.subject}\")\n"
   ]
  }
 ],
 "metadata": {
  "kernelspec": {
   "display_name": "Python 3 (ipykernel)",
   "language": "python",
   "name": "python3"
  },
  "language_info": {
   "codemirror_mode": {
    "name": "ipython",
    "version": 3
   },
   "file_extension": ".py",
   "mimetype": "text/x-python",
   "name": "python",
   "nbconvert_exporter": "python",
   "pygments_lexer": "ipython3",
   "version": "3.10.10"
  }
 },
 "nbformat": 4,
 "nbformat_minor": 5
}
