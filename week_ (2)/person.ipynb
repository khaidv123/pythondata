{
 "cells": [
  {
   "cell_type": "code",
   "execution_count": null,
   "id": "161212fb",
   "metadata": {},
   "outputs": [],
   "source": [
    "class Person:\n",
    "    def __init__(self, first_name, last_name, age):\n",
    "        self.first_name = first_name\n",
    "        self.last_name = last_name\n",
    "        self.age = age\n",
    "\n",
    "    def get_full_name(self):\n",
    "        return (self.first_name + \" \" + self.last_name)\n",
    "    def __str__(self):  \n",
    "        return \"{0} is {1} years old\".format(self.get_full_name(), self.age)\n",
    "\n",
    "class Student(Person):\n",
    "    def __init__(self, first_name, last_name, age, student_id):\n",
    "        super().__init__(first_name, last_name, age)\n",
    "        self.student_id = student_id\n",
    "\n",
    "    def get_student_id(self):\n",
    "        return self.student_id\n",
    "\n",
    "    def print_student_id(self):\n",
    "        print(self.get_student_id())\n",
    "\n",
    "    def __str__(self):\n",
    "        return Person.__str__(self) + \" and has student id \" + str(self.get_student_id())"
   ]
  }
 ],
 "metadata": {
  "kernelspec": {
   "display_name": "Python 3 (ipykernel)",
   "language": "python",
   "name": "python3"
  },
  "language_info": {
   "codemirror_mode": {
    "name": "ipython",
    "version": 3
   },
   "file_extension": ".py",
   "mimetype": "text/x-python",
   "name": "python",
   "nbconvert_exporter": "python",
   "pygments_lexer": "ipython3",
   "version": "3.10.10"
  }
 },
 "nbformat": 4,
 "nbformat_minor": 5
}
